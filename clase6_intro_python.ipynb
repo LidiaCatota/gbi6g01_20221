{
  "nbformat": 4,
  "nbformat_minor": 0,
  "metadata": {
    "colab": {
      "name": "clase6_intro_python.ipynb",
      "provenance": [],
      "authorship_tag": "ABX9TyPQLvqRnBGpY8s6AZpshNWj",
      "include_colab_link": true
    },
    "kernelspec": {
      "name": "python3",
      "display_name": "Python 3"
    },
    "language_info": {
      "name": "python"
    }
  },
  "cells": [
    {
      "cell_type": "markdown",
      "metadata": {
        "id": "view-in-github",
        "colab_type": "text"
      },
      "source": [
        "<a href=\"https://colab.research.google.com/github/LidiaCatota/gbi6g01_20221/blob/main/clase6_intro_python.ipynb\" target=\"_parent\"><img src=\"https://colab.research.google.com/assets/colab-badge.svg\" alt=\"Open In Colab\"/></a>"
      ]
    },
    {
      "cell_type": "markdown",
      "source": [
        "# BIOINFORMÁTICA\n",
        "\n",
        "## CLASE 6 : Introdución a Python\n",
        "\n",
        "En esta clase vamos a revisar los siguientes contenidos:\n",
        "1. Historia de Python\n",
        "2. Tipos de datos \n",
        "3. Operaciones con numeros\n",
        "4. Operaciones con texto\n",
        "\n",
        "\n",
        "## 1. HISTORIA PYTHON\n",
        "\n",
        "La historia de Python se puede leer en la  \n",
        " [pagina web de python](https://docs.python.org/3/)\n",
        "\n"
      ],
      "metadata": {
        "id": "Fr0hP97o0B1E"
      }
    },
    {
      "cell_type": "code",
      "execution_count": null,
      "metadata": {
        "id": "qPMtP9rwzy1g"
      },
      "outputs": [],
      "source": [
        ""
      ]
    },
    {
      "cell_type": "markdown",
      "source": [
        "## 2. TIPOS DE DATOS\n",
        "\n",
        "- Numericos: enteros (integer, int), decimales(double), complejos (complex). \n",
        "- Logicos: Verdadero (TRUE, T), Falso (FALSE, F)\n",
        "- Texto: cadena de caracteres \"Siempre entre comillas\""
      ],
      "metadata": {
        "id": "8NDFmxwX47-i"
      }
    },
    {
      "cell_type": "markdown",
      "source": [
        ""
      ],
      "metadata": {
        "id": "73annDwo5GAm"
      }
    },
    {
      "cell_type": "code",
      "source": [
        "gen1_r = 1.5\n",
        "gen1_h = 1.7\n",
        "dif_gen1 = gen1_r - gen1_h\n",
        "ratio_gen1 = gen1_r / gen1_h\n",
        "\n",
        "\n"
      ],
      "metadata": {
        "id": "DnthMz8B5HIQ"
      },
      "execution_count": 1,
      "outputs": []
    },
    {
      "cell_type": "code",
      "source": [
        "print(\"gen1_h:\" , gen1_h)\n",
        "print(\"gen1_r:\" , gen1_r)\n",
        "print(\"dif_gen1:\" , dif_gen1)\n",
        "print(\"dif_gen1:\" , ratio_gen1)\n",
        "\n"
      ],
      "metadata": {
        "colab": {
          "base_uri": "https://localhost:8080/"
        },
        "id": "dbH0atqZ6aMZ",
        "outputId": "d0c29ce6-3071-4273-9b9e-bf8839a8e566"
      },
      "execution_count": 4,
      "outputs": [
        {
          "output_type": "stream",
          "name": "stdout",
          "text": [
            "gen1_h: 1.7\n",
            "gen1_r: 1.5\n",
            "dif_gen1: -0.19999999999999996\n",
            "dif_gen1: 0.8823529411764706\n"
          ]
        }
      ]
    },
    {
      "cell_type": "markdown",
      "source": [
        "## Operaciones con texto\n"
      ],
      "metadata": {
        "id": "GG7DdVgr8Unv"
      }
    },
    {
      "cell_type": "code",
      "source": [
        "saludo = \"hola con todos, que bueno que no hay examen\"\n",
        "saludo.upper()\n"
      ],
      "metadata": {
        "colab": {
          "base_uri": "https://localhost:8080/",
          "height": 35
        },
        "id": "ZJ0XZVV38gjg",
        "outputId": "5b083bbd-c922-4529-8f82-6076bac143cc"
      },
      "execution_count": 9,
      "outputs": [
        {
          "output_type": "execute_result",
          "data": {
            "text/plain": [
              "'HOLA CON TODOS, QUE BUENO QUE NO HAY EXAMEN'"
            ],
            "application/vnd.google.colaboratory.intrinsic+json": {
              "type": "string"
            }
          },
          "metadata": {},
          "execution_count": 9
        }
      ]
    },
    {
      "cell_type": "code",
      "source": [
        "len(saludo)\n"
      ],
      "metadata": {
        "colab": {
          "base_uri": "https://localhost:8080/"
        },
        "id": "d7W8uwoM-Bcq",
        "outputId": "14deb345-e408-4563-a71a-493f03263628"
      },
      "execution_count": 7,
      "outputs": [
        {
          "output_type": "execute_result",
          "data": {
            "text/plain": [
              "43"
            ]
          },
          "metadata": {},
          "execution_count": 7
        }
      ]
    },
    {
      "cell_type": "code",
      "source": [
        "# En este bloque se revisa el iso combinado de funciones\n",
        "total = len(saludo)\n",
        "char_a = saludo.count(\"a\")\n",
        "ratio_a = 100*char_a / total\n",
        "print(\"Porcentaje de a: \", ratio_a)\n",
        "\n"
      ],
      "metadata": {
        "colab": {
          "base_uri": "https://localhost:8080/"
        },
        "id": "Fov3kESn-yWz",
        "outputId": "7f49a784-20d7-40a9-dd5f-8b7a05931df0"
      },
      "execution_count": 12,
      "outputs": [
        {
          "output_type": "stream",
          "name": "stdout",
          "text": [
            "Porcentaje de a:  6.976744186046512\n"
          ]
        }
      ]
    },
    {
      "cell_type": "code",
      "source": [
        "round(ratio_a, 2)\n"
      ],
      "metadata": {
        "colab": {
          "base_uri": "https://localhost:8080/"
        },
        "id": "qyLUM91G_2rf",
        "outputId": "e9d25bfd-a434-42ee-e20b-f861d74f0917"
      },
      "execution_count": 13,
      "outputs": [
        {
          "output_type": "execute_result",
          "data": {
            "text/plain": [
              "6.98"
            ]
          },
          "metadata": {},
          "execution_count": 13
        }
      ]
    },
    {
      "cell_type": "markdown",
      "source": [
        "## Porcentaje de GC\n",
        "\n",
        "Calcular el porcentaje e contenido de nucléotidos G y C en la siguiente secuencia.\n"
      ],
      "metadata": {
        "id": "d2nVBJT6__RM"
      }
    },
    {
      "cell_type": "code",
      "source": [
        "p53_11 = \"TTCCTGGNCTGTAGGTAGCGACTACAGTTAGGGGGCACCTAGCATTCAGGCCCTCATCCTCCTCCTTCCC\"\n",
        "total = len(p53_11)\n",
        "char_G = p53_11.count(\"G\")\n",
        "ratio_G = 100*char_G / total\n",
        "print(\"Porcentaje de G: \", ratio_G)"
      ],
      "metadata": {
        "colab": {
          "base_uri": "https://localhost:8080/"
        },
        "id": "107DzcUrBnNf",
        "outputId": "848c4c54-5350-48ea-945e-458bbb4b9dbf"
      },
      "execution_count": 14,
      "outputs": [
        {
          "output_type": "stream",
          "name": "stdout",
          "text": [
            "Porcentaje de G:  22.857142857142858\n"
          ]
        }
      ]
    },
    {
      "cell_type": "code",
      "source": [
        "total = len(p53_11)\n",
        "char_C = p53_11.count(\"C\")\n",
        "ratio_C = 100*char_C / total\n",
        "print(\"Porcentaje de C: \", ratio_C)\n",
        "\n",
        "ratio_C+ratio_G\n"
      ],
      "metadata": {
        "colab": {
          "base_uri": "https://localhost:8080/"
        },
        "id": "M5gEup6jCbqa",
        "outputId": "7d3fd873-e82e-4de6-8627-84010e8bb583"
      },
      "execution_count": 16,
      "outputs": [
        {
          "output_type": "stream",
          "name": "stdout",
          "text": [
            "Porcentaje de C:  34.285714285714285\n"
          ]
        },
        {
          "output_type": "execute_result",
          "data": {
            "text/plain": [
              "57.14285714285714"
            ]
          },
          "metadata": {},
          "execution_count": 16
        }
      ]
    },
    {
      "cell_type": "code",
      "source": [
        "percent_GC = 100*(p53_11.count(\"G\") + p53_11.count(\"C\"))/len(p53_11)\n",
        "print(\"Porcentaje GC en P53_linea1:\", round(percent_GC, 3))\n"
      ],
      "metadata": {
        "colab": {
          "base_uri": "https://localhost:8080/"
        },
        "id": "6m0IyVedDAOs",
        "outputId": "1d79171b-2a6f-4a89-c2b8-15df1b1a50de"
      },
      "execution_count": 23,
      "outputs": [
        {
          "output_type": "stream",
          "name": "stdout",
          "text": [
            "Porcentaje GC en P53_linea1: 57.143\n"
          ]
        }
      ]
    },
    {
      "cell_type": "code",
      "source": [
        "# Subconjunto\n",
        "print(p53_11)\n",
        "fi = p53_11.find(\"TAC\") # Si se tiene \n",
        "ff1 = p53_11.find(\"ATT\") # Si se tiene \n",
        "ff2 = p53_11.find(\"ATC\")\n",
        "ff3 = p53_11.find(\"ACT\")\n",
        "\n",
        "\n"
      ],
      "metadata": {
        "colab": {
          "base_uri": "https://localhost:8080/"
        },
        "id": "O1maotqzMqe5",
        "outputId": "135f74f3-f7fc-4733-df27-a22b0bd655db"
      },
      "execution_count": 28,
      "outputs": [
        {
          "output_type": "stream",
          "name": "stdout",
          "text": [
            "TTCCTGGNCTGTAGGTAGCGACTACAGTTAGGGGGCACCTAGCATTCAGGCCCTCATCCTCCTCCTTCCC\n"
          ]
        }
      ]
    },
    {
      "cell_type": "code",
      "source": [
        "p53_11[3:6]\n"
      ],
      "metadata": {
        "colab": {
          "base_uri": "https://localhost:8080/",
          "height": 35
        },
        "id": "UFd4o-1DPFBP",
        "outputId": "e27d910d-1aa5-47cd-bb01-4fe13951b852"
      },
      "execution_count": 29,
      "outputs": [
        {
          "output_type": "execute_result",
          "data": {
            "text/plain": [
              "'CTG'"
            ],
            "application/vnd.google.colaboratory.intrinsic+json": {
              "type": "string"
            }
          },
          "metadata": {},
          "execution_count": 29
        }
      ]
    },
    {
      "cell_type": "code",
      "source": [
        "mRNA_f1 = p53_11[fi:ff1+3]\n",
        "mRNA_f1\n"
      ],
      "metadata": {
        "colab": {
          "base_uri": "https://localhost:8080/",
          "height": 35
        },
        "id": "6zHGsweMQmFZ",
        "outputId": "9ab422b2-fc43-4ae7-e22f-2df6a96b3d3b"
      },
      "execution_count": 30,
      "outputs": [
        {
          "output_type": "execute_result",
          "data": {
            "text/plain": [
              "'TACAGTTAGGGGGCACCTAGCATT'"
            ],
            "application/vnd.google.colaboratory.intrinsic+json": {
              "type": "string"
            }
          },
          "metadata": {},
          "execution_count": 30
        }
      ]
    },
    {
      "cell_type": "code",
      "source": [
        "# Cadena Complementaria\n",
        "print(saludo)\n",
        "saludo.replace(\"x\", \"e\")\n"
      ],
      "metadata": {
        "colab": {
          "base_uri": "https://localhost:8080/",
          "height": 53
        },
        "id": "pnrgK_QgRmYn",
        "outputId": "38540941-ae56-43c8-fd74-c5281d2304c7"
      },
      "execution_count": 31,
      "outputs": [
        {
          "output_type": "stream",
          "name": "stdout",
          "text": [
            "hola con todos, que bueno que no hay examen\n"
          ]
        },
        {
          "output_type": "execute_result",
          "data": {
            "text/plain": [
              "'hola con todos, que bueno que no hay eeamen'"
            ],
            "application/vnd.google.colaboratory.intrinsic+json": {
              "type": "string"
            }
          },
          "metadata": {},
          "execution_count": 31
        }
      ]
    },
    {
      "cell_type": "code",
      "source": [
        "p53_a = p53_11.replace(\"A\", \"t\")\n",
        "p53_t = p53_a.replace(\"T\", \"a\")\n",
        "p53_g = p53_t.replace(\"G\", \"c\")\n",
        "p53_c = p53_g.replace(\"C\", \"g\")\n",
        "p53_11c = p53_c.upper()\n",
        "p53_11c\n",
        "\n",
        "\n",
        "\n"
      ],
      "metadata": {
        "colab": {
          "base_uri": "https://localhost:8080/",
          "height": 35
        },
        "id": "lxp73J5OSVaj",
        "outputId": "03ddf7fa-6eda-4fd7-9be1-842ec84ae071"
      },
      "execution_count": 41,
      "outputs": [
        {
          "output_type": "execute_result",
          "data": {
            "text/plain": [
              "'AAGGACCNGACATCCATCGCTGATGTCAATCCCCCGTGGATCGTAAGTCCGGGAGTAGGAGGAGGAAGGG'"
            ],
            "application/vnd.google.colaboratory.intrinsic+json": {
              "type": "string"
            }
          },
          "metadata": {},
          "execution_count": 41
        }
      ]
    },
    {
      "cell_type": "code",
      "source": [
        "p53_11c_r = p53_11c[::-1]\n",
        "p53_11c_r\n",
        "print(p53_11) # Original\n",
        "print(p53_11c) # Complemento 5`a 3`\n",
        "print(p53_11c_r)\n",
        "\n"
      ],
      "metadata": {
        "colab": {
          "base_uri": "https://localhost:8080/"
        },
        "id": "HJzZY0MmVR08",
        "outputId": "70554acd-d184-486f-a124-a32f997e2b30"
      },
      "execution_count": 43,
      "outputs": [
        {
          "output_type": "stream",
          "name": "stdout",
          "text": [
            "TTCCTGGNCTGTAGGTAGCGACTACAGTTAGGGGGCACCTAGCATTCAGGCCCTCATCCTCCTCCTTCCC\n",
            "AAGGACCNGACATCCATCGCTGATGTCAATCCCCCGTGGATCGTAAGTCCGGGAGTAGGAGGAGGAAGGG\n",
            "GGGAAGGAGGAGGATGAGGGCCTGAATGCTAGGTGCCCCCTAACTGTAGTCGCTACCTACAGNCCAGGAA\n"
          ]
        }
      ]
    },
    {
      "cell_type": "code",
      "source": [
        "p53_l1 = \"TTCCTGGNCTGTAGGTAGCGACTACAGTTAGGGGGCACCTAGCATTCAGGCCCTCATCCTCCTCCTTCCCAGCAGGGTGTCACGCTTCTCCGAAGACTGGATGACTGCCATGGAGGAGTCACAGTCGGATATCAGCCTCGAGCTCCCTCTGAGCCAGGAGACATTTTCAGGCTTATGGAAACTACTTCCTCCAGAAGATATCCTGCCATC\"\n"
      ],
      "metadata": {
        "id": "1TY-ejgAXQIa"
      },
      "execution_count": 45,
      "outputs": []
    }
  ]
}